{
 "cells": [
  {
   "cell_type": "code",
   "execution_count": null,
   "id": "e13d7eaa-7a0f-4e06-8be8-f9d3a74c865a",
   "metadata": {},
   "outputs": [
    {
     "name": "stdin",
     "output_type": "stream",
     "text": [
      "You  hii\n"
     ]
    },
    {
     "name": "stdout",
     "output_type": "stream",
     "text": [
      "Hello...! Welcome to Bank Chat Bot\n",
      "\n",
      "Bot: What would you like to do? (deposit / withdraw / balance / exit/ bank details )\n"
     ]
    },
    {
     "name": "stdin",
     "output_type": "stream",
     "text": [
      "You:  bank details\n"
     ]
    },
    {
     "name": "stdout",
     "output_type": "stream",
     "text": [
      "\n",
      "Bot: Here are your details:\n",
      "Name: Utsav Sharma\n",
      "account_number: 123456789\n",
      "IFSC_Code: ABC968949\n",
      "account_type: Savings\n",
      "Current_Balance: 0\n",
      "\n",
      "Bot: What would you like to do? (deposit / withdraw / balance / exit/ bank details )\n"
     ]
    },
    {
     "name": "stdin",
     "output_type": "stream",
     "text": [
      "You:  deposite\n"
     ]
    },
    {
     "name": "stdout",
     "output_type": "stream",
     "text": [
      "Bot: Sorry, I didn't understand that.\n",
      "\n",
      "Bot: What would you like to do? (deposit / withdraw / balance / exit/ bank details )\n"
     ]
    },
    {
     "name": "stdin",
     "output_type": "stream",
     "text": [
      "You:  deposit\n",
      "Enter amount to be deposited:  523256\n"
     ]
    },
    {
     "name": "stdout",
     "output_type": "stream",
     "text": [
      "\n",
      "Bot: Amount Deposited: 523256.0\n",
      "\n",
      "Bot: What would you like to do? (deposit / withdraw / balance / exit/ bank details )\n"
     ]
    },
    {
     "name": "stdin",
     "output_type": "stream",
     "text": [
      "You:  bank details\n"
     ]
    },
    {
     "name": "stdout",
     "output_type": "stream",
     "text": [
      "\n",
      "Bot: Here are your details:\n",
      "Name: Utsav Sharma\n",
      "account_number: 123456789\n",
      "IFSC_Code: ABC968949\n",
      "account_type: Savings\n",
      "Current_Balance: 523256.0\n",
      "\n",
      "Bot: What would you like to do? (deposit / withdraw / balance / exit/ bank details )\n"
     ]
    },
    {
     "name": "stdin",
     "output_type": "stream",
     "text": [
      "You:  withdraw\n",
      "Enter amount to be withdrawn:  3265.120\n"
     ]
    },
    {
     "name": "stdout",
     "output_type": "stream",
     "text": [
      "\n",
      " Bot: You Withdrew: 3265.12\n",
      "\n",
      "Bot: What would you like to do? (deposit / withdraw / balance / exit/ bank details )\n"
     ]
    },
    {
     "name": "stdin",
     "output_type": "stream",
     "text": [
      "You:  bank details\n"
     ]
    },
    {
     "name": "stdout",
     "output_type": "stream",
     "text": [
      "\n",
      "Bot: Here are your details:\n",
      "Name: Utsav Sharma\n",
      "account_number: 123456789\n",
      "IFSC_Code: ABC968949\n",
      "account_type: Savings\n",
      "Current_Balance: 519990.88\n",
      "\n",
      "Bot: What would you like to do? (deposit / withdraw / balance / exit/ bank details )\n"
     ]
    },
    {
     "name": "stdin",
     "output_type": "stream",
     "text": [
      "You:  no\n"
     ]
    },
    {
     "name": "stdout",
     "output_type": "stream",
     "text": [
      "Bot: Sorry, I didn't understand that.\n",
      "\n",
      "Bot: What would you like to do? (deposit / withdraw / balance / exit/ bank details )\n"
     ]
    }
   ],
   "source": [
    "# create bank account programe\n",
    "import time\n",
    "    \n",
    "class BankChatBot:\n",
    "    user_input = input('You ').lower()\n",
    "    def __init__(self):\n",
    "        self.balance = 0\n",
    "        self.name = 'Utsav Sharma'\n",
    "        self.account_number = '123456789'\n",
    "        self.IFSC_Code = 'ABC968949'\n",
    "        self.account_type = 'Savings'\n",
    "        self.current_balance = 'current_balance'\n",
    "        time.sleep(1)\n",
    "        print('Hello...! Welcome to Bank Chat Bot')\n",
    "        time.sleep(1)\n",
    "        \n",
    "    def deposit(self):\n",
    "        amount=float(input('Enter amount to be deposited: '))\n",
    "        self.balance += amount\n",
    "        print('\\nBot: Amount Deposited:',amount)\n",
    "        time.sleep(2)\n",
    "        \n",
    "    def withdraw(self):\n",
    "        amount = float(input('Enter amount to be withdrawn: '))\n",
    "        if self.balance>=amount:\n",
    "            self.balance-=amount\n",
    "            print('\\n Bot: You Withdrew:', amount)\n",
    "        else:\n",
    "            print('\\n Insuffiecient Balance...')\n",
    "            time.sleep(2)\n",
    "            \n",
    "    def display(self):\n",
    "        print('\\nBot:  Net Available Balance=',self.balance)\n",
    "\n",
    "\n",
    "    def bank_details(self):\n",
    "        print('\\nBot: Here are your details:')\n",
    "        print(f'Name: {self.name}')\n",
    "        print(f'account_number: {self.account_number}')\n",
    "        print(f'IFSC_Code: {self.IFSC_Code}')\n",
    "        print(f'account_type: {self.account_type}')\n",
    "        print(f'Current_Balance: {self.balance}')\n",
    "        time.sleep(2)\n",
    "\n",
    "# Main chat loop\n",
    "account = BankChatBot()\n",
    "\n",
    "while True:\n",
    "    print(\"\\nBot: What would you like to do? (deposit / withdraw / balance / exit/ bank details )\")\n",
    "    user_input = input(\"You: \").lower()\n",
    "\n",
    "    if user_input == \"deposit\":\n",
    "        account.deposit()\n",
    "    elif user_input == \"withdraw\":\n",
    "        account.withdraw()\n",
    "    elif user_input == \"balance\":\n",
    "        account.display()\n",
    "    elif user_input == 'bank details':\n",
    "        account.bank_details()\n",
    "        time.sleep(1)\n",
    "    elif user_input == \"exit\" or user_input == \"bye\":\n",
    "        print(\"Bot: Thank you! Have a nice day.\")\n",
    "        break\n",
    "    else:\n",
    "        print(\"Bot: Sorry, I didn't understand that.\")"
   ]
  },
  {
   "cell_type": "code",
   "execution_count": null,
   "id": "62dbe257-9f23-47e5-8a91-5c15dbe8c09d",
   "metadata": {},
   "outputs": [],
   "source": []
  }
 ],
 "metadata": {
  "kernelspec": {
   "display_name": "Python 3 (ipykernel)",
   "language": "python",
   "name": "python3"
  },
  "language_info": {
   "codemirror_mode": {
    "name": "ipython",
    "version": 3
   },
   "file_extension": ".py",
   "mimetype": "text/x-python",
   "name": "python",
   "nbconvert_exporter": "python",
   "pygments_lexer": "ipython3",
   "version": "3.8.20"
  }
 },
 "nbformat": 4,
 "nbformat_minor": 5
}
